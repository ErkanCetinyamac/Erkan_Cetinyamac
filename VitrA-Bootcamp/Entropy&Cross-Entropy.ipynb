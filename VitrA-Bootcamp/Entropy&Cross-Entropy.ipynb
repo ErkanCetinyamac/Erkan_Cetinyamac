{
 "cells": [
  {
   "cell_type": "markdown",
   "metadata": {},
   "source": [
    "# **Entropy & Cross-Entropy**"
   ]
  },
  {
   "cell_type": "code",
   "execution_count": 1,
   "metadata": {},
   "outputs": [
    {
     "data": {
      "text/html": [
       "<img src=\"https://miro.medium.com/max/600/1*Saq3JOsjGUgyhXCg-jQVNQ.jpeg\" width=\"200\" height=\"300\"/>"
      ],
      "text/plain": [
       "<IPython.core.display.Image object>"
      ]
     },
     "execution_count": 1,
     "metadata": {},
     "output_type": "execute_result"
    }
   ],
   "source": [
    "from IPython.display import Image\n",
    "from IPython.core.display import HTML\n",
    "Image(url= \"https://miro.medium.com/max/600/1*Saq3JOsjGUgyhXCg-jQVNQ.jpeg\", width=200, height=300)"
   ]
  },
  {
   "cell_type": "markdown",
   "metadata": {},
   "source": [
    "## What is entropy?\n",
    "\n",
    "Cladue Shanon, the “father of information theory”  defined entropy as measure of average uncertainty in 1948. If we look from data science perspective, entropy is a measure of disorder in a dataset. There is a another important concept here which is information gain. Information gain is a measure of the decrease in disorder achieved by partitioning the original dataset. To point out, entropy is calculated by the formula that is shown below. \n"
   ]
  },
  {
   "cell_type": "code",
   "execution_count": 2,
   "metadata": {},
   "outputs": [
    {
     "data": {
      "text/html": [
       "<img src=\"https://miro.medium.com/max/492/1*f4VIJTl7VeZabtjwSPPXyw.png\" width=\"200\" height=\"300\"/>"
      ],
      "text/plain": [
       "<IPython.core.display.Image object>"
      ]
     },
     "execution_count": 2,
     "metadata": {},
     "output_type": "execute_result"
    }
   ],
   "source": [
    "Image(url= \"https://miro.medium.com/max/492/1*f4VIJTl7VeZabtjwSPPXyw.png\", width=200, height=300)"
   ]
  },
  {
   "cell_type": "markdown",
   "metadata": {},
   "source": [
    "What is the reason behind logarithm based of 2 in the formula? Information was thought in terms of bits(0,1) for this reason log based on 2 in the formula. The process is to sum p*log(p) with base 2, for all the possible outcomes in a distribution. Let's think about a fair coin flip event. Possible outcomes are either tails (0) or heads (1). The side that came up at the coin toss can be stored in one data bit and we can say that coin flips has information of 1 bit per flip. Now let's create some code blocks to demonstrate of a coin flip event with 0.5 possibility of both outcomes.\n",
    "\n"
   ]
  },
  {
   "cell_type": "code",
   "execution_count": 3,
   "metadata": {},
   "outputs": [
    {
     "data": {
      "text/plain": [
       "1.0"
      ]
     },
     "execution_count": 3,
     "metadata": {},
     "output_type": "execute_result"
    }
   ],
   "source": [
    "from scipy.stats import entropy\n",
    "entropy([0.5, 0.5], base=2)\n"
   ]
  },
  {
   "cell_type": "markdown",
   "metadata": {},
   "source": [
    "We observe that when the possible outcomes distrubuted equally in this case P(Heads)= 0.5 and P(Tails)= 0.5, the entropy reaches maximum of its value.\n",
    "\n",
    "What if the coin was rigged ? Will there be less entropy or more ? Let's see."
   ]
  },
  {
   "cell_type": "code",
   "execution_count": 4,
   "metadata": {},
   "outputs": [
    {
     "data": {
      "text/plain": [
       "0.7219280948873623"
      ]
     },
     "execution_count": 4,
     "metadata": {},
     "output_type": "execute_result"
    }
   ],
   "source": [
    "entropy([0.8, 0.2], base=2)"
   ]
  },
  {
   "cell_type": "markdown",
   "metadata": {},
   "source": []
  },
  {
   "cell_type": "markdown",
   "metadata": {},
   "source": [
    "As we can see entropy decreases. At the begining, we defined the entropy as measure of the uncertainty. If the coin was biased then there is less uncertainty. We can get less information from outcome of this event. Therefore the entropy decreased when coin was rigged."
   ]
  },
  {
   "cell_type": "code",
   "execution_count": 7,
   "metadata": {
    "scrolled": true
   },
   "outputs": [
    {
     "data": {
      "text/plain": [
       "Text(0, 0.5, 'Information')"
      ]
     },
     "execution_count": 7,
     "metadata": {},
     "output_type": "execute_result"
    },
    {
     "data": {
      "image/png": "[encoded data removed]",
      "text/plain": [
       "<Figure size 432x288 with 1 Axes>"
      ]
     },
     "metadata": {
      "needs_background": "light"
     },
     "output_type": "display_data"
    }
   ],
   "source": [
    "from math import log2\n",
    "import matplotlib.pyplot as plt\n",
    "\n",
    "\n",
    "p=[0.1,0.125, 0.25,0.5,0.75,1.0]\n",
    "inf= [-log2(_) for _ in p ]\n",
    "plt.plot(p,inf,marker = '*')\n",
    "plt.title(\"Probability vs Information\")\n",
    "plt.xlabel(\"Probability\")\n",
    "plt.ylabel('Information')\n"
   ]
  },
  {
   "cell_type": "markdown",
   "metadata": {},
   "source": [
    "The plot that shown above is a visual of the information change corresponding to probabilities from less certain to certain."
   ]
  },
  {
   "cell_type": "markdown",
   "metadata": {},
   "source": [
    "## Cross-Entropy"
   ]
  },
  {
   "cell_type": "markdown",
   "metadata": {},
   "source": [
    "In machine learing, cross entropy is used as a cost function where we train classification models and it is also a measure of average message length. We evaluate the efficieny of our model and optimize it by means of cross entropy. Our aim is to minimize the cost (loss) function. Lower cost means better model. Let's have a look to the formula of cross entropy."
   ]
  },
  {
   "cell_type": "code",
   "execution_count": 3,
   "metadata": {},
   "outputs": [
    {
     "data": {
      "text/html": [
       "<img src=\"https://androidkt.com/wp-content/uploads/2021/05/Selection_098.png\" width=\"300\" height=\"300\"/>"
      ],
      "text/plain": [
       "<IPython.core.display.Image object>"
      ]
     },
     "execution_count": 3,
     "metadata": {},
     "output_type": "execute_result"
    }
   ],
   "source": [
    "Image(url= \"https://androidkt.com/wp-content/uploads/2021/05/Selection_098.png\", width=300, height=300)"
   ]
  },
  {
   "cell_type": "markdown",
   "metadata": {},
   "source": [
    "When we calculate the log value for every data point, we eventually get the error function for each point.\n",
    "\n",
    "## References\n",
    "* Aurélien Géron. (2018, February 5). A Short Introduction to Entropy, Cross-Entropy and KL-Divergence [Video]. YouTube. https://www.youtube.com/watch?v=ErfnhcEV1O8 \n",
    "\n",
    "* Koech, K. E. (2021, July 24). Cross-Entropy Loss Function. Medium. https://towardsdatascience.com/cross-entropy-loss-function-f38c4ec8643e\n",
    "\n",
    "* Collins Ayuya. (n.d.). Entropy and Information Gain to Build Decision Trees in Machine Learning. Section. https://www.section.io/engineering-education/entropy-information-gain-machine-learning/\n"
   ]
  }
 ],
 "metadata": {
  "kernelspec": {
   "display_name": "Python 3",
   "language": "python",
   "name": "python3"
  },
  "language_info": {
   "codemirror_mode": {
    "name": "ipython",
    "version": 3
   },
   "file_extension": ".py",
   "mimetype": "text/x-python",
   "name": "python",
   "nbconvert_exporter": "python",
   "pygments_lexer": "ipython3",
   "version": "3.8.3"
  }
 },
 "nbformat": 4,
 "nbformat_minor": 4
}
