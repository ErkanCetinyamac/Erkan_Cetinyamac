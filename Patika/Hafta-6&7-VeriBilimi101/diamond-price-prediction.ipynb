{
 "cells": [
  {
   "cell_type": "code",
   "execution_count": 55,
   "metadata": {},
   "outputs": [
    {
     "data": {
      "text/html": [
       "<img src=\"https://www.ukrgate.com/eng/wp-content/uploads/2021/05/Pandora-Jewelry-Brand-Is-Switching-to-Artificial-Diamonds1.jpg\" width=\"600\" height=\"600\"/>"
      ],
      "text/plain": [
       "<IPython.core.display.Image object>"
      ]
     },
     "execution_count": 55,
     "metadata": {},
     "output_type": "execute_result"
    }
   ],
   "source": []
  },
  {
   "cell_type": "markdown",
   "metadata": {},
   "source": [
    "# Diamond Price Prediction\n",
    "\n",
    "**Diamond is the only gem made of a single element: It is typically about 99.95 percent carbon. The other 0.05 percent can include one or more trace elements.Diamonds were formed billions of years ago and are extremely rare because so few are able to survive the difficult journey from the pits of the earth to reach the earth's surface.**\n",
    "\n",
    "## Aim of The Project\n",
    "**Aim of the this project is to predict diamond price (target) with respect to predictor varaibles of given diamond data set.**\n"
   ]
  },
  {
   "cell_type": "markdown",
   "metadata": {},
   "source": [
    "# Exploratory Data Analysis"
   ]
  },
  {
   "cell_type": "code",
   "execution_count": 57,
   "metadata": {
    "execution": {
     "iopub.execute_input": "2021-08-13T11:34:33.793187Z",
     "iopub.status.busy": "2021-08-13T11:34:33.792660Z",
     "iopub.status.idle": "2021-08-13T11:34:33.804414Z",
     "shell.execute_reply": "2021-08-13T11:34:33.803404Z",
     "shell.execute_reply.started": "2021-08-13T11:34:33.793088Z"
    }
   },
   "outputs": [],
   "source": [
    "#importing required data manupilation libraries\n",
    "import numpy as np\n",
    "import pandas as pd\n",
    "import matplotlib.pyplot as plt\n",
    "import seaborn as sns\n",
    "import warnings\n",
    "warnings.filterwarnings(\"ignore\")"
   ]
  },
  {
   "cell_type": "code",
   "execution_count": 58,
   "metadata": {
    "execution": {
     "iopub.execute_input": "2021-08-13T11:34:33.806867Z",
     "iopub.status.busy": "2021-08-13T11:34:33.806183Z",
     "iopub.status.idle": "2021-08-13T11:34:33.891854Z",
     "shell.execute_reply": "2021-08-13T11:34:33.891085Z",
     "shell.execute_reply.started": "2021-08-13T11:34:33.806822Z"
    }
   },
   "outputs": [],
   "source": [
    "df = pd.read_csv(r\"C:\\Users\\ErkanCetinyamac\\Desktop\\Datasets\\diamonds.csv\") #reads the diamond data."
   ]
  },
  {
   "cell_type": "code",
   "execution_count": 59,
   "metadata": {
    "execution": {
     "iopub.execute_input": "2021-08-13T11:34:33.893464Z",
     "iopub.status.busy": "2021-08-13T11:34:33.893042Z",
     "iopub.status.idle": "2021-08-13T11:34:33.923161Z",
     "shell.execute_reply": "2021-08-13T11:34:33.922459Z",
     "shell.execute_reply.started": "2021-08-13T11:34:33.893434Z"
    }
   },
   "outputs": [
    {
     "name": "stdout",
     "output_type": "stream",
     "text": [
      "<class 'pandas.core.frame.DataFrame'>\n",
      "RangeIndex: 53940 entries, 0 to 53939\n",
      "Data columns (total 11 columns):\n",
      " #   Column      Non-Null Count  Dtype  \n",
      "---  ------      --------------  -----  \n",
      " 0   Unnamed: 0  53940 non-null  int64  \n",
      " 1   carat       53940 non-null  float64\n",
      " 2   cut         53940 non-null  object \n",
      " 3   color       53940 non-null  object \n",
      " 4   clarity     53940 non-null  object \n",
      " 5   depth       53940 non-null  float64\n",
      " 6   table       53940 non-null  float64\n",
      " 7   price       53940 non-null  int64  \n",
      " 8   x           53940 non-null  float64\n",
      " 9   y           53940 non-null  float64\n",
      " 10  z           53940 non-null  float64\n",
      "dtypes: float64(6), int64(2), object(3)\n",
      "memory usage: 4.5+ MB\n"
     ]
    }
   ],
   "source": [
    "df.info() # our data set contains 8 numerical and 3 categorical variables."
   ]
  },
  {
   "cell_type": "code",
   "execution_count": 60,
   "metadata": {
    "execution": {
     "iopub.execute_input": "2021-08-13T11:34:33.924601Z",
     "iopub.status.busy": "2021-08-13T11:34:33.924332Z",
     "iopub.status.idle": "2021-08-13T11:34:33.930695Z",
     "shell.execute_reply": "2021-08-13T11:34:33.929498Z",
     "shell.execute_reply.started": "2021-08-13T11:34:33.924562Z"
    }
   },
   "outputs": [
    {
     "data": {
      "text/plain": [
       "(53940, 11)"
      ]
     },
     "execution_count": 60,
     "metadata": {},
     "output_type": "execute_result"
    }
   ],
   "source": [
    "df.shape # the data has 53940 rows of observations"
   ]
  },
  {
   "cell_type": "code",
   "execution_count": 61,
   "metadata": {
    "execution": {
     "iopub.execute_input": "2021-08-13T11:34:33.933069Z",
     "iopub.status.busy": "2021-08-13T11:34:33.932662Z",
     "iopub.status.idle": "2021-08-13T11:34:33.944571Z",
     "shell.execute_reply": "2021-08-13T11:34:33.943520Z",
     "shell.execute_reply.started": "2021-08-13T11:34:33.933041Z"
    }
   },
   "outputs": [
    {
     "data": {
      "text/plain": [
       "Index(['Unnamed: 0', 'carat', 'cut', 'color', 'clarity', 'depth', 'table',\n",
       "       'price', 'x', 'y', 'z'],\n",
       "      dtype='object')"
      ]
     },
     "execution_count": 61,
     "metadata": {},
     "output_type": "execute_result"
    }
   ],
   "source": [
    "df.columns # names of the features"
   ]
  },
  {
   "cell_type": "code",
   "execution_count": 62,
   "metadata": {
    "execution": {
     "iopub.execute_input": "2021-08-13T11:34:33.946510Z",
     "iopub.status.busy": "2021-08-13T11:34:33.946171Z",
     "iopub.status.idle": "2021-08-13T11:34:33.973902Z",
     "shell.execute_reply": "2021-08-13T11:34:33.972839Z",
     "shell.execute_reply.started": "2021-08-13T11:34:33.946479Z"
    }
   },
   "outputs": [
    {
     "data": {
      "text/html": [
       "<div>\n",
       "<style scoped>\n",
       "    .dataframe tbody tr th:only-of-type {\n",
       "        vertical-align: middle;\n",
       "    }\n",
       "\n",
       "    .dataframe tbody tr th {\n",
       "        vertical-align: top;\n",
       "    }\n",
       "\n",
       "    .dataframe thead th {\n",
       "        text-align: right;\n",
       "    }\n",
       "</style>\n",
       "<table border=\"1\" class=\"dataframe\">\n",
       "  <thead>\n",
       "    <tr style=\"text-align: right;\">\n",
       "      <th></th>\n",
       "      <th>Unnamed: 0</th>\n",
       "      <th>carat</th>\n",
       "      <th>cut</th>\n",
       "      <th>color</th>\n",
       "      <th>clarity</th>\n",
       "      <th>depth</th>\n",
       "      <th>table</th>\n",
       "      <th>price</th>\n",
       "      <th>x</th>\n",
       "      <th>y</th>\n",
       "      <th>z</th>\n",
       "    </tr>\n",
       "  </thead>\n",
       "  <tbody>\n",
       "    <tr>\n",
       "      <th>0</th>\n",
       "      <td>1</td>\n",
       "      <td>0.23</td>\n",
       "      <td>Ideal</td>\n",
       "      <td>E</td>\n",
       "      <td>SI2</td>\n",
       "      <td>61.5</td>\n",
       "      <td>55.0</td>\n",
       "      <td>326</td>\n",
       "      <td>3.95</td>\n",
       "      <td>3.98</td>\n",
       "      <td>2.43</td>\n",
       "    </tr>\n",
       "    <tr>\n",
       "      <th>1</th>\n",
       "      <td>2</td>\n",
       "      <td>0.21</td>\n",
       "      <td>Premium</td>\n",
       "      <td>E</td>\n",
       "      <td>SI1</td>\n",
       "      <td>59.8</td>\n",
       "      <td>61.0</td>\n",
       "      <td>326</td>\n",
       "      <td>3.89</td>\n",
       "      <td>3.84</td>\n",
       "      <td>2.31</td>\n",
       "    </tr>\n",
       "    <tr>\n",
       "      <th>2</th>\n",
       "      <td>3</td>\n",
       "      <td>0.23</td>\n",
       "      <td>Good</td>\n",
       "      <td>E</td>\n",
       "      <td>VS1</td>\n",
       "      <td>56.9</td>\n",
       "      <td>65.0</td>\n",
       "      <td>327</td>\n",
       "      <td>4.05</td>\n",
       "      <td>4.07</td>\n",
       "      <td>2.31</td>\n",
       "    </tr>\n",
       "    <tr>\n",
       "      <th>3</th>\n",
       "      <td>4</td>\n",
       "      <td>0.29</td>\n",
       "      <td>Premium</td>\n",
       "      <td>I</td>\n",
       "      <td>VS2</td>\n",
       "      <td>62.4</td>\n",
       "      <td>58.0</td>\n",
       "      <td>334</td>\n",
       "      <td>4.20</td>\n",
       "      <td>4.23</td>\n",
       "      <td>2.63</td>\n",
       "    </tr>\n",
       "    <tr>\n",
       "      <th>4</th>\n",
       "      <td>5</td>\n",
       "      <td>0.31</td>\n",
       "      <td>Good</td>\n",
       "      <td>J</td>\n",
       "      <td>SI2</td>\n",
       "      <td>63.3</td>\n",
       "      <td>58.0</td>\n",
       "      <td>335</td>\n",
       "      <td>4.34</td>\n",
       "      <td>4.35</td>\n",
       "      <td>2.75</td>\n",
       "    </tr>\n",
       "    <tr>\n",
       "      <th>5</th>\n",
       "      <td>6</td>\n",
       "      <td>0.24</td>\n",
       "      <td>Very Good</td>\n",
       "      <td>J</td>\n",
       "      <td>VVS2</td>\n",
       "      <td>62.8</td>\n",
       "      <td>57.0</td>\n",
       "      <td>336</td>\n",
       "      <td>3.94</td>\n",
       "      <td>3.96</td>\n",
       "      <td>2.48</td>\n",
       "    </tr>\n",
       "    <tr>\n",
       "      <th>6</th>\n",
       "      <td>7</td>\n",
       "      <td>0.24</td>\n",
       "      <td>Very Good</td>\n",
       "      <td>I</td>\n",
       "      <td>VVS1</td>\n",
       "      <td>62.3</td>\n",
       "      <td>57.0</td>\n",
       "      <td>336</td>\n",
       "      <td>3.95</td>\n",
       "      <td>3.98</td>\n",
       "      <td>2.47</td>\n",
       "    </tr>\n",
       "    <tr>\n",
       "      <th>7</th>\n",
       "      <td>8</td>\n",
       "      <td>0.26</td>\n",
       "      <td>Very Good</td>\n",
       "      <td>H</td>\n",
       "      <td>SI1</td>\n",
       "      <td>61.9</td>\n",
       "      <td>55.0</td>\n",
       "      <td>337</td>\n",
       "      <td>4.07</td>\n",
       "      <td>4.11</td>\n",
       "      <td>2.53</td>\n",
       "    </tr>\n",
       "    <tr>\n",
       "      <th>8</th>\n",
       "      <td>9</td>\n",
       "      <td>0.22</td>\n",
       "      <td>Fair</td>\n",
       "      <td>E</td>\n",
       "      <td>VS2</td>\n",
       "      <td>65.1</td>\n",
       "      <td>61.0</td>\n",
       "      <td>337</td>\n",
       "      <td>3.87</td>\n",
       "      <td>3.78</td>\n",
       "      <td>2.49</td>\n",
       "    </tr>\n",
       "    <tr>\n",
       "      <th>9</th>\n",
       "      <td>10</td>\n",
       "      <td>0.23</td>\n",
       "      <td>Very Good</td>\n",
       "      <td>H</td>\n",
       "      <td>VS1</td>\n",
       "      <td>59.4</td>\n",
       "      <td>61.0</td>\n",
       "      <td>338</td>\n",
       "      <td>4.00</td>\n",
       "      <td>4.05</td>\n",
       "      <td>2.39</td>\n",
       "    </tr>\n",
       "  </tbody>\n",
       "</table>\n",
       "</div>"
      ],
      "text/plain": [
       "   Unnamed: 0  carat        cut color clarity  depth  table  price     x  \\\n",
       "0           1   0.23      Ideal     E     SI2   61.5   55.0    326  3.95   \n",
       "1           2   0.21    Premium     E     SI1   59.8   61.0    326  3.89   \n",
       "2           3   0.23       Good     E     VS1   56.9   65.0    327  4.05   \n",
       "3           4   0.29    Premium     I     VS2   62.4   58.0    334  4.20   \n",
       "4           5   0.31       Good     J     SI2   63.3   58.0    335  4.34   \n",
       "5           6   0.24  Very Good     J    VVS2   62.8   57.0    336  3.94   \n",
       "6           7   0.24  Very Good     I    VVS1   62.3   57.0    336  3.95   \n",
       "7           8   0.26  Very Good     H     SI1   61.9   55.0    337  4.07   \n",
       "8           9   0.22       Fair     E     VS2   65.1   61.0    337  3.87   \n",
       "9          10   0.23  Very Good     H     VS1   59.4   61.0    338  4.00   \n",
       "\n",
       "      y     z  \n",
       "0  3.98  2.43  \n",
       "1  3.84  2.31  \n",
       "2  4.07  2.31  \n",
       "3  4.23  2.63  \n",
       "4  4.35  2.75  \n",
       "5  3.96  2.48  \n",
       "6  3.98  2.47  \n",
       "7  4.11  2.53  \n",
       "8  3.78  2.49  \n",
       "9  4.05  2.39  "
      ]
     },
     "execution_count": 62,
     "metadata": {},
     "output_type": "execute_result"
    }
   ],
   "source": [
    "df.head(10) # first look to the data. unnamed:0 column seems like unnecessary index. We might consider droping it. "
   ]
  },
  {
   "cell_type": "code",
   "execution_count": 63,
   "metadata": {
    "execution": {
     "iopub.execute_input": "2021-08-13T11:34:33.975440Z",
     "iopub.status.busy": "2021-08-13T11:34:33.975144Z",
     "iopub.status.idle": "2021-08-13T11:34:34.030731Z",
     "shell.execute_reply": "2021-08-13T11:34:34.029798Z",
     "shell.execute_reply.started": "2021-08-13T11:34:33.975412Z"
    }
   },
   "outputs": [
    {
     "data": {
      "text/html": [
       "<div>\n",
       "<style scoped>\n",
       "    .dataframe tbody tr th:only-of-type {\n",
       "        vertical-align: middle;\n",
       "    }\n",
       "\n",
       "    .dataframe tbody tr th {\n",
       "        vertical-align: top;\n",
       "    }\n",
       "\n",
       "    .dataframe thead th {\n",
       "        text-align: right;\n",
       "    }\n",
       "</style>\n",
       "<table border=\"1\" class=\"dataframe\">\n",
       "  <thead>\n",
       "    <tr style=\"text-align: right;\">\n",
       "      <th></th>\n",
       "      <th>count</th>\n",
       "      <th>mean</th>\n",
       "      <th>std</th>\n",
       "      <th>min</th>\n",
       "      <th>25%</th>\n",
       "      <th>50%</th>\n",
       "      <th>75%</th>\n",
       "      <th>max</th>\n",
       "    </tr>\n",
       "  </thead>\n",
       "  <tbody>\n",
       "    <tr>\n",
       "      <th>Unnamed: 0</th>\n",
       "      <td>53940.0</td>\n",
       "      <td>26970.500000</td>\n",
       "      <td>15571.281097</td>\n",
       "      <td>1.0</td>\n",
       "      <td>13485.75</td>\n",
       "      <td>26970.50</td>\n",
       "      <td>40455.25</td>\n",
       "      <td>53940.00</td>\n",
       "    </tr>\n",
       "    <tr>\n",
       "      <th>carat</th>\n",
       "      <td>53940.0</td>\n",
       "      <td>0.797940</td>\n",
       "      <td>0.474011</td>\n",
       "      <td>0.2</td>\n",
       "      <td>0.40</td>\n",
       "      <td>0.70</td>\n",
       "      <td>1.04</td>\n",
       "      <td>5.01</td>\n",
       "    </tr>\n",
       "    <tr>\n",
       "      <th>depth</th>\n",
       "      <td>53940.0</td>\n",
       "      <td>61.749405</td>\n",
       "      <td>1.432621</td>\n",
       "      <td>43.0</td>\n",
       "      <td>61.00</td>\n",
       "      <td>61.80</td>\n",
       "      <td>62.50</td>\n",
       "      <td>79.00</td>\n",
       "    </tr>\n",
       "    <tr>\n",
       "      <th>table</th>\n",
       "      <td>53940.0</td>\n",
       "      <td>57.457184</td>\n",
       "      <td>2.234491</td>\n",
       "      <td>43.0</td>\n",
       "      <td>56.00</td>\n",
       "      <td>57.00</td>\n",
       "      <td>59.00</td>\n",
       "      <td>95.00</td>\n",
       "    </tr>\n",
       "    <tr>\n",
       "      <th>price</th>\n",
       "      <td>53940.0</td>\n",
       "      <td>3932.799722</td>\n",
       "      <td>3989.439738</td>\n",
       "      <td>326.0</td>\n",
       "      <td>950.00</td>\n",
       "      <td>2401.00</td>\n",
       "      <td>5324.25</td>\n",
       "      <td>18823.00</td>\n",
       "    </tr>\n",
       "    <tr>\n",
       "      <th>x</th>\n",
       "      <td>53940.0</td>\n",
       "      <td>5.731157</td>\n",
       "      <td>1.121761</td>\n",
       "      <td>0.0</td>\n",
       "      <td>4.71</td>\n",
       "      <td>5.70</td>\n",
       "      <td>6.54</td>\n",
       "      <td>10.74</td>\n",
       "    </tr>\n",
       "    <tr>\n",
       "      <th>y</th>\n",
       "      <td>53940.0</td>\n",
       "      <td>5.734526</td>\n",
       "      <td>1.142135</td>\n",
       "      <td>0.0</td>\n",
       "      <td>4.72</td>\n",
       "      <td>5.71</td>\n",
       "      <td>6.54</td>\n",
       "      <td>58.90</td>\n",
       "    </tr>\n",
       "    <tr>\n",
       "      <th>z</th>\n",
       "      <td>53940.0</td>\n",
       "      <td>3.538734</td>\n",
       "      <td>0.705699</td>\n",
       "      <td>0.0</td>\n",
       "      <td>2.91</td>\n",
       "      <td>3.53</td>\n",
       "      <td>4.04</td>\n",
       "      <td>31.80</td>\n",
       "    </tr>\n",
       "  </tbody>\n",
       "</table>\n",
       "</div>"
      ],
      "text/plain": [
       "              count          mean           std    min       25%       50%  \\\n",
       "Unnamed: 0  53940.0  26970.500000  15571.281097    1.0  13485.75  26970.50   \n",
       "carat       53940.0      0.797940      0.474011    0.2      0.40      0.70   \n",
       "depth       53940.0     61.749405      1.432621   43.0     61.00     61.80   \n",
       "table       53940.0     57.457184      2.234491   43.0     56.00     57.00   \n",
       "price       53940.0   3932.799722   3989.439738  326.0    950.00   2401.00   \n",
       "x           53940.0      5.731157      1.121761    0.0      4.71      5.70   \n",
       "y           53940.0      5.734526      1.142135    0.0      4.72      5.71   \n",
       "z           53940.0      3.538734      0.705699    0.0      2.91      3.53   \n",
       "\n",
       "                 75%       max  \n",
       "Unnamed: 0  40455.25  53940.00  \n",
       "carat           1.04      5.01  \n",
       "depth          62.50     79.00  \n",
       "table          59.00     95.00  \n",
       "price        5324.25  18823.00  \n",
       "x               6.54     10.74  \n",
       "y               6.54     58.90  \n",
       "z               4.04     31.80  "
      ]
     },
     "execution_count": 63,
     "metadata": {},
     "output_type": "execute_result"
    }
   ],
   "source": [
    "df.describe().T # descriptive statistics of numerical features.\n",
    "#price feature has huge difference of min and max values. There might be outliers."
   ]
  },
  {
   "cell_type": "code",
   "execution_count": 64,
   "metadata": {
    "execution": {
     "iopub.execute_input": "2021-08-13T11:34:34.032244Z",
     "iopub.status.busy": "2021-08-13T11:34:34.031979Z",
     "iopub.status.idle": "2021-08-13T11:34:34.057273Z",
     "shell.execute_reply": "2021-08-13T11:34:34.056031Z",
     "shell.execute_reply.started": "2021-08-13T11:34:34.032219Z"
    }
   },
   "outputs": [
    {
     "data": {
      "text/plain": [
       "Unnamed: 0    0\n",
       "carat         0\n",
       "cut           0\n",
       "color         0\n",
       "clarity       0\n",
       "depth         0\n",
       "table         0\n",
       "price         0\n",
       "x             0\n",
       "y             0\n",
       "z             0\n",
       "dtype: int64"
      ]
     },
     "execution_count": 64,
     "metadata": {},
     "output_type": "execute_result"
    }
   ],
   "source": [
    "df.isna().sum() # there is no missing value in the data."
   ]
  },
  {
   "cell_type": "code",
   "execution_count": 65,
   "metadata": {
    "execution": {
     "iopub.execute_input": "2021-08-13T11:34:34.059060Z",
     "iopub.status.busy": "2021-08-13T11:34:34.058726Z",
     "iopub.status.idle": "2021-08-13T11:34:34.649788Z",
     "shell.execute_reply": "2021-08-13T11:34:34.648898Z",
     "shell.execute_reply.started": "2021-08-13T11:34:34.059032Z"
    }
   },
   "outputs": [
    {
     "data": {
      "text/plain": [
       "<matplotlib.axes._subplots.AxesSubplot at 0x1cb921f8820>"
      ]
     },
     "execution_count": 65,
     "metadata": {},
     "output_type": "execute_result"
    },
    {
     "data": {
      "image/png": "[encoded data removed]",
      "text/plain": [
       "<Figure size 432x288 with 2 Axes>"
      ]
     },
     "metadata": {
      "needs_background": "light"
     },
     "output_type": "display_data"
    }
   ],
   "source": [
    "df.drop('Unnamed: 0',axis = 1, inplace = True) #  drop unnecessary index.\n",
    "corr=df.corr()\n",
    "sns.heatmap(corr,vmin=-1, vmax=1, center=0,\n",
    "    cmap=sns.diverging_palette(20, 220, n=200),\n",
    "    square=True, annot = True\n",
    ")\n",
    "\n",
    "#Correlation table of numerical features.\n",
    "#Strong correlation between carat and price draws attention .\n"
   ]
  },
  {
   "cell_type": "code",
   "execution_count": 66,
   "metadata": {
    "execution": {
     "iopub.execute_input": "2021-08-13T11:34:34.653556Z",
     "iopub.status.busy": "2021-08-13T11:34:34.653240Z",
     "iopub.status.idle": "2021-08-13T11:34:34.776256Z",
     "shell.execute_reply": "2021-08-13T11:34:34.775296Z",
     "shell.execute_reply.started": "2021-08-13T11:34:34.653526Z"
    }
   },
   "outputs": [
    {
     "data": {
      "image/png": "[encoded data removed]",
      "text/plain": [
       "<Figure size 432x288 with 1 Axes>"
      ]
     },
     "metadata": {
      "needs_background": "light"
     },
     "output_type": "display_data"
    }
   ],
   "source": [
    "sns.boxplot(x=\"carat\",data=df,color =\"lime\"); # box plot of carat feature. There are a lot of outliers."
   ]
  },
  {
   "cell_type": "code",
   "execution_count": 67,
   "metadata": {
    "execution": {
     "iopub.execute_input": "2021-08-13T11:34:34.777906Z",
     "iopub.status.busy": "2021-08-13T11:34:34.777610Z",
     "iopub.status.idle": "2021-08-13T11:34:35.357769Z",
     "shell.execute_reply": "2021-08-13T11:34:35.356783Z",
     "shell.execute_reply.started": "2021-08-13T11:34:34.777876Z"
    }
   },
   "outputs": [
    {
     "data": {
      "text/plain": [
       "<matplotlib.axes._subplots.AxesSubplot at 0x1cb925e9e20>"
      ]
     },
     "execution_count": 67,
     "metadata": {},
     "output_type": "execute_result"
    },
    {
     "data": {
      "image/png": "[encoded data removed]",
      "text/plain": [
       "<Figure size 432x288 with 1 Axes>"
      ]
     },
     "metadata": {
      "needs_background": "light"
     },
     "output_type": "display_data"
    }
   ],
   "source": [
    "sns.distplot(df.carat, hist=True, kde=True,color = \"green\") #distribution plot of carat feature.\n",
    "#The distribution is left skewed due to outliers."
   ]
  },
  {
   "cell_type": "code",
   "execution_count": 68,
   "metadata": {
    "execution": {
     "iopub.execute_input": "2021-08-13T11:34:35.361194Z",
     "iopub.status.busy": "2021-08-13T11:34:35.360899Z",
     "iopub.status.idle": "2021-08-13T11:34:35.510938Z",
     "shell.execute_reply": "2021-08-13T11:34:35.509980Z",
     "shell.execute_reply.started": "2021-08-13T11:34:35.361165Z"
    }
   },
   "outputs": [
    {
     "data": {
      "text/plain": [
       "<matplotlib.axes._subplots.AxesSubplot at 0x1cb93a94850>"
      ]
     },
     "execution_count": 68,
     "metadata": {},
     "output_type": "execute_result"
    },
    {
     "data": {
      "image/png": "[encoded data removed]",
      "text/plain": [
       "<Figure size 432x288 with 1 Axes>"
      ]
     },
     "metadata": {
      "needs_background": "light"
     },
     "output_type": "display_data"
    }
   ],
   "source": [
    "sns.boxplot(x=\"price\",data=df,color =\"cyan\") # Price column also has many outliers."
   ]
  },
  {
   "cell_type": "code",
   "execution_count": 69,
   "metadata": {
    "execution": {
     "iopub.execute_input": "2021-08-13T11:34:35.514085Z",
     "iopub.status.busy": "2021-08-13T11:34:35.513788Z",
     "iopub.status.idle": "2021-08-13T11:34:36.118824Z",
     "shell.execute_reply": "2021-08-13T11:34:36.117865Z",
     "shell.execute_reply.started": "2021-08-13T11:34:35.514057Z"
    }
   },
   "outputs": [
    {
     "data": {
      "text/plain": [
       "<matplotlib.axes._subplots.AxesSubplot at 0x1cb93ae4100>"
      ]
     },
     "execution_count": 69,
     "metadata": {},
     "output_type": "execute_result"
    },
    {
     "data": {
      "image/png": "[encoded data removed]",
      "text/plain": [
       "<Figure size 432x288 with 1 Axes>"
      ]
     },
     "metadata": {
      "needs_background": "light"
     },
     "output_type": "display_data"
    }
   ],
   "source": [
    "sns.distplot(df.price, hist=True, kde=True,color = \"darkblue\") # skewed to left as well."
   ]
  },
  {
   "cell_type": "code",
   "execution_count": 71,
   "metadata": {
    "execution": {
     "iopub.execute_input": "2021-08-13T11:34:36.121063Z",
     "iopub.status.busy": "2021-08-13T11:34:36.120768Z",
     "iopub.status.idle": "2021-08-13T11:34:36.131492Z",
     "shell.execute_reply": "2021-08-13T11:34:36.130402Z",
     "shell.execute_reply.started": "2021-08-13T11:34:36.121035Z"
    }
   },
   "outputs": [
    {
     "data": {
      "text/plain": [
       "array(['Ideal', 'Premium', 'Good', 'Very Good', 'Fair'], dtype=object)"
      ]
     },
     "execution_count": 71,
     "metadata": {},
     "output_type": "execute_result"
    }
   ],
   "source": [
    "df.cut.unique() # quality of the cut (Fair, Good, Very Good, Premium, Ideal) ordinal variable."
   ]
  },
  {
   "cell_type": "code",
   "execution_count": 72,
   "metadata": {
    "execution": {
     "iopub.execute_input": "2021-08-13T11:34:36.133176Z",
     "iopub.status.busy": "2021-08-13T11:34:36.132835Z",
     "iopub.status.idle": "2021-08-13T11:34:36.154622Z",
     "shell.execute_reply": "2021-08-13T11:34:36.153822Z",
     "shell.execute_reply.started": "2021-08-13T11:34:36.133142Z"
    }
   },
   "outputs": [
    {
     "data": {
      "text/plain": [
       "Ideal        21551\n",
       "Premium      13791\n",
       "Very Good    12082\n",
       "Good          4906\n",
       "Fair          1610\n",
       "Name: cut, dtype: int64"
      ]
     },
     "execution_count": 72,
     "metadata": {},
     "output_type": "execute_result"
    }
   ],
   "source": [
    "df.cut.value_counts() # count values of cut types."
   ]
  },
  {
   "cell_type": "code",
   "execution_count": 73,
   "metadata": {
    "execution": {
     "iopub.execute_input": "2021-08-13T11:34:36.156103Z",
     "iopub.status.busy": "2021-08-13T11:34:36.155806Z",
     "iopub.status.idle": "2021-08-13T11:34:36.551631Z",
     "shell.execute_reply": "2021-08-13T11:34:36.550713Z",
     "shell.execute_reply.started": "2021-08-13T11:34:36.156075Z"
    }
   },
   "outputs": [
    {
     "data": {
      "text/plain": [
       "<seaborn.axisgrid.FacetGrid at 0x1cb925dfee0>"
      ]
     },
     "execution_count": 73,
     "metadata": {},
     "output_type": "execute_result"
    },
    {
     "data": {
      "image/png": "[encoded data removed]",
      "text/plain": [
       "<Figure size 900x360 with 1 Axes>"
      ]
     },
     "metadata": {
      "needs_background": "light"
     },
     "output_type": "display_data"
    }
   ],
   "source": [
    "sns.factorplot(x='cut', data=df , kind='count',aspect=2.5 ) # bar plot of cut feature count.\n",
    "#most of diamonds that in the data is ideal cut."
   ]
  },
  {
   "cell_type": "code",
   "execution_count": 74,
   "metadata": {
    "execution": {
     "iopub.execute_input": "2021-08-13T11:34:36.553156Z",
     "iopub.status.busy": "2021-08-13T11:34:36.552723Z",
     "iopub.status.idle": "2021-08-13T11:34:36.563229Z",
     "shell.execute_reply": "2021-08-13T11:34:36.562445Z",
     "shell.execute_reply.started": "2021-08-13T11:34:36.553112Z"
    }
   },
   "outputs": [
    {
     "data": {
      "text/plain": [
       "array(['E', 'I', 'J', 'H', 'F', 'G', 'D'], dtype=object)"
      ]
     },
     "execution_count": 74,
     "metadata": {},
     "output_type": "execute_result"
    }
   ],
   "source": [
    "df.color.unique() # there are 7 different color of diamonds in the data."
   ]
  },
  {
   "cell_type": "code",
   "execution_count": 75,
   "metadata": {
    "execution": {
     "iopub.execute_input": "2021-08-13T11:34:36.565197Z",
     "iopub.status.busy": "2021-08-13T11:34:36.564591Z",
     "iopub.status.idle": "2021-08-13T11:34:36.588482Z",
     "shell.execute_reply": "2021-08-13T11:34:36.587354Z",
     "shell.execute_reply.started": "2021-08-13T11:34:36.565153Z"
    }
   },
   "outputs": [
    {
     "data": {
      "text/plain": [
       "G    11292\n",
       "E     9797\n",
       "F     9542\n",
       "H     8304\n",
       "D     6775\n",
       "I     5422\n",
       "J     2808\n",
       "Name: color, dtype: int64"
      ]
     },
     "execution_count": 75,
     "metadata": {},
     "output_type": "execute_result"
    }
   ],
   "source": [
    "df.color.value_counts() # value counts of color of diamonds."
   ]
  },
  {
   "cell_type": "code",
   "execution_count": 76,
   "metadata": {
    "execution": {
     "iopub.execute_input": "2021-08-13T11:34:36.590582Z",
     "iopub.status.busy": "2021-08-13T11:34:36.590128Z",
     "iopub.status.idle": "2021-08-13T11:34:36.968110Z",
     "shell.execute_reply": "2021-08-13T11:34:36.967377Z",
     "shell.execute_reply.started": "2021-08-13T11:34:36.590543Z"
    }
   },
   "outputs": [
    {
     "data": {
      "text/plain": [
       "<seaborn.axisgrid.FacetGrid at 0x1cb9b1bebe0>"
      ]
     },
     "execution_count": 76,
     "metadata": {},
     "output_type": "execute_result"
    },
    {
     "data": {
      "image/png": "[encoded data removed]",
      "text/plain": [
       "<Figure size 900x360 with 1 Axes>"
      ]
     },
     "metadata": {
      "needs_background": "light"
     },
     "output_type": "display_data"
    }
   ],
   "source": [
    "sns.factorplot(x='color', data=df , kind='count',aspect=2.5 )  #barplot of diamond colors. \n",
    "#color diamond from  D (best) to J (worst) \n",
    "# 'G' color is the most common type.\n"
   ]
  },
  {
   "cell_type": "code",
   "execution_count": 77,
   "metadata": {
    "execution": {
     "iopub.execute_input": "2021-08-13T11:34:36.969953Z",
     "iopub.status.busy": "2021-08-13T11:34:36.969389Z",
     "iopub.status.idle": "2021-08-13T11:34:36.984185Z",
     "shell.execute_reply": "2021-08-13T11:34:36.983038Z",
     "shell.execute_reply.started": "2021-08-13T11:34:36.969899Z"
    }
   },
   "outputs": [
    {
     "data": {
      "text/plain": [
       "color\n",
       "D    0.657795\n",
       "E    0.657867\n",
       "F    0.736538\n",
       "G    0.771190\n",
       "H    0.911799\n",
       "I    1.026927\n",
       "J    1.162137\n",
       "Name: carat, dtype: float64"
      ]
     },
     "execution_count": 77,
     "metadata": {},
     "output_type": "execute_result"
    }
   ],
   "source": [
    "df.groupby('color').carat.mean() #grouping diamonds according to their colors then looking their carat means.\n"
   ]
  },
  {
   "cell_type": "code",
   "execution_count": 79,
   "metadata": {
    "execution": {
     "iopub.execute_input": "2021-08-13T11:34:37.003976Z",
     "iopub.status.busy": "2021-08-13T11:34:37.003665Z",
     "iopub.status.idle": "2021-08-13T11:34:37.177234Z",
     "shell.execute_reply": "2021-08-13T11:34:37.176386Z",
     "shell.execute_reply.started": "2021-08-13T11:34:37.003927Z"
    }
   },
   "outputs": [
    {
     "data": {
      "text/plain": [
       "<matplotlib.axes._subplots.AxesSubplot at 0x1cba9b26910>"
      ]
     },
     "execution_count": 79,
     "metadata": {},
     "output_type": "execute_result"
    },
    {
     "data": {
      "image/png": "[encoded data removed]",
      "text/plain": [
       "<Figure size 432x288 with 1 Axes>"
      ]
     },
     "metadata": {
      "needs_background": "light"
     },
     "output_type": "display_data"
    }
   ],
   "source": [
    "df.groupby('color').carat.mean().plot(kind = 'bar', \n",
    "                                      color=['black', 'red', 'green', 'blue', 'cyan','purple','yellow'],\n",
    "                                      xlabel = 'color',\n",
    "                                      ylabel=\"carat\")\n",
    "#bar plot of the carat means with respect to colors."
   ]
  },
  {
   "cell_type": "code",
   "execution_count": 80,
   "metadata": {
    "execution": {
     "iopub.execute_input": "2021-08-13T11:34:37.179017Z",
     "iopub.status.busy": "2021-08-13T11:34:37.178670Z",
     "iopub.status.idle": "2021-08-13T11:34:37.194989Z",
     "shell.execute_reply": "2021-08-13T11:34:37.194364Z",
     "shell.execute_reply.started": "2021-08-13T11:34:37.178985Z"
    }
   },
   "outputs": [
    {
     "data": {
      "text/plain": [
       "cut\n",
       "Fair         4358.757764\n",
       "Good         3928.864452\n",
       "Ideal        3457.541970\n",
       "Premium      4584.257704\n",
       "Very Good    3981.759891\n",
       "Name: price, dtype: float64"
      ]
     },
     "execution_count": 80,
     "metadata": {},
     "output_type": "execute_result"
    }
   ],
   "source": [
    "CutPrice = df.groupby('cut').price.mean()\n",
    "CutPrice\n",
    "#mean prices of cut types"
   ]
  },
  {
   "cell_type": "code",
   "execution_count": 81,
   "metadata": {
    "execution": {
     "iopub.execute_input": "2021-08-13T11:34:37.196567Z",
     "iopub.status.busy": "2021-08-13T11:34:37.196085Z",
     "iopub.status.idle": "2021-08-13T11:34:37.307706Z",
     "shell.execute_reply": "2021-08-13T11:34:37.306859Z",
     "shell.execute_reply.started": "2021-08-13T11:34:37.196535Z"
    }
   },
   "outputs": [
    {
     "data": {
      "text/plain": [
       "<matplotlib.axes._subplots.AxesSubplot at 0x1cb9b20f160>"
      ]
     },
     "execution_count": 81,
     "metadata": {},
     "output_type": "execute_result"
    },
    {
     "data": {
      "image/png": "[encoded data removed]",
      "text/plain": [
       "<Figure size 504x504 with 1 Axes>"
      ]
     },
     "metadata": {},
     "output_type": "display_data"
    }
   ],
   "source": [
    "CutPrice.plot(kind='pie',figsize=(7,7)) #pie plot of mean prices of cut types\n",
    "#Premium is the most high one."
   ]
  },
  {
   "cell_type": "markdown",
   "metadata": {},
   "source": [
    "# Outlier Elemination\n",
    "\n",
    "**In order to determine outliers we use box plots to see from which point outlier observations starts.**"
   ]
  },
  {
   "cell_type": "code",
   "execution_count": 82,
   "metadata": {
    "execution": {
     "iopub.execute_input": "2021-08-13T11:34:37.309474Z",
     "iopub.status.busy": "2021-08-13T11:34:37.308960Z",
     "iopub.status.idle": "2021-08-13T11:34:37.434283Z",
     "shell.execute_reply": "2021-08-13T11:34:37.433616Z",
     "shell.execute_reply.started": "2021-08-13T11:34:37.309440Z"
    }
   },
   "outputs": [
    {
     "data": {
      "text/plain": [
       "<matplotlib.axes._subplots.AxesSubplot at 0x1cb9b2b88e0>"
      ]
     },
     "execution_count": 82,
     "metadata": {},
     "output_type": "execute_result"
    },
    {
     "data": {
      "image/png": "[encoded data removed]",
      "text/plain": [
       "<Figure size 432x288 with 1 Axes>"
      ]
     },
     "metadata": {
      "needs_background": "light"
     },
     "output_type": "display_data"
    }
   ],
   "source": [
    "sns.boxplot(x=\"carat\",data=df,color =\"cyan\")\n",
    "# it seems like above of 3 value are outliers."
   ]
  },
  {
   "cell_type": "code",
   "execution_count": 83,
   "metadata": {
    "execution": {
     "iopub.execute_input": "2021-08-13T11:34:37.435957Z",
     "iopub.status.busy": "2021-08-13T11:34:37.435494Z",
     "iopub.status.idle": "2021-08-13T11:34:37.582159Z",
     "shell.execute_reply": "2021-08-13T11:34:37.581110Z",
     "shell.execute_reply.started": "2021-08-13T11:34:37.435924Z"
    }
   },
   "outputs": [
    {
     "data": {
      "text/plain": [
       "<matplotlib.axes._subplots.AxesSubplot at 0x1cb9b49f0a0>"
      ]
     },
     "execution_count": 83,
     "metadata": {},
     "output_type": "execute_result"
    },
    {
     "data": {
      "image/png": "[encoded data removed]",
      "text/plain": [
       "<Figure size 432x288 with 1 Axes>"
      ]
     },
     "metadata": {
      "needs_background": "light"
     },
     "output_type": "display_data"
    }
   ],
   "source": [
    "sns.boxplot(df.price,color =\"purple\")\n",
    "#outliers of price column starts from 13000."
   ]
  },
  {
   "cell_type": "code",
   "execution_count": 84,
   "metadata": {
    "execution": {
     "iopub.execute_input": "2021-08-13T11:34:37.583673Z",
     "iopub.status.busy": "2021-08-13T11:34:37.583397Z",
     "iopub.status.idle": "2021-08-13T11:34:37.702957Z",
     "shell.execute_reply": "2021-08-13T11:34:37.701909Z",
     "shell.execute_reply.started": "2021-08-13T11:34:37.583647Z"
    }
   },
   "outputs": [
    {
     "data": {
      "text/plain": [
       "<matplotlib.axes._subplots.AxesSubplot at 0x1cba1646df0>"
      ]
     },
     "execution_count": 84,
     "metadata": {},
     "output_type": "execute_result"
    },
    {
     "data": {
      "image/png": "[encoded data removed]",
      "text/plain": [
       "<Figure size 432x288 with 1 Axes>"
      ]
     },
     "metadata": {
      "needs_background": "light"
     },
     "output_type": "display_data"
    }
   ],
   "source": [
    "sns.boxplot(x=\"table\",data=df,color =\"red\")\n",
    "#outlier observation of table feature"
   ]
  },
  {
   "cell_type": "code",
   "execution_count": 86,
   "metadata": {
    "execution": {
     "iopub.execute_input": "2021-08-13T11:34:37.704754Z",
     "iopub.status.busy": "2021-08-13T11:34:37.704437Z",
     "iopub.status.idle": "2021-08-13T11:34:37.723894Z",
     "shell.execute_reply": "2021-08-13T11:34:37.723034Z",
     "shell.execute_reply.started": "2021-08-13T11:34:37.704726Z"
    }
   },
   "outputs": [],
   "source": [
    "#appyling outlier elemination by filtering data points\n",
    "df = df[(df[\"price\"]< 14500)]\n",
    "df = df[(df[\"carat\"]< 3)]\n",
    "df = df[(df[\"table\"]< 64)&(df[\"table\"]>52)]"
   ]
  },
  {
   "cell_type": "code",
   "execution_count": 89,
   "metadata": {
    "execution": {
     "iopub.execute_input": "2021-08-13T11:34:37.725329Z",
     "iopub.status.busy": "2021-08-13T11:34:37.725045Z",
     "iopub.status.idle": "2021-08-13T11:34:37.853996Z",
     "shell.execute_reply": "2021-08-13T11:34:37.853263Z",
     "shell.execute_reply.started": "2021-08-13T11:34:37.725286Z"
    }
   },
   "outputs": [
    {
     "data": {
      "text/plain": [
       "<matplotlib.axes._subplots.AxesSubplot at 0x1cba87f2e20>"
      ]
     },
     "execution_count": 89,
     "metadata": {},
     "output_type": "execute_result"
    },
    {
     "data": {
      "image/png": "[encoded data removed]",
      "text/plain": [
       "<Figure size 432x288 with 1 Axes>"
      ]
     },
     "metadata": {
      "needs_background": "light"
     },
     "output_type": "display_data"
    }
   ],
   "source": [
    "sns.boxplot(x=\"table\",data=df,color =\"red\") # box plot of table column after outlier elemination"
   ]
  },
  {
   "cell_type": "code",
   "execution_count": null,
   "metadata": {
    "execution": {
     "iopub.execute_input": "2021-08-13T11:34:37.861382Z",
     "iopub.status.busy": "2021-08-13T11:34:37.860954Z",
     "iopub.status.idle": "2021-08-13T11:34:37.873212Z",
     "shell.execute_reply": "2021-08-13T11:34:37.872258Z",
     "shell.execute_reply.started": "2021-08-13T11:34:37.861319Z"
    }
   },
   "outputs": [],
   "source": [
    "diamond = df.copy() #copying the dataframe before categorical feature encoding."
   ]
  },
  {
   "cell_type": "markdown",
   "metadata": {},
   "source": [
    "# Categorical Feature Encoding"
   ]
  },
  {
   "cell_type": "code",
   "execution_count": 90,
   "metadata": {
    "execution": {
     "iopub.execute_input": "2021-08-13T11:34:37.874835Z",
     "iopub.status.busy": "2021-08-13T11:34:37.874541Z",
     "iopub.status.idle": "2021-08-13T11:34:37.940256Z",
     "shell.execute_reply": "2021-08-13T11:34:37.939447Z",
     "shell.execute_reply.started": "2021-08-13T11:34:37.874808Z"
    }
   },
   "outputs": [],
   "source": [
    "# We will use labelencoding to encode out categorical features.\n",
    "from sklearn import preprocessing\n",
    "\n",
    "label_cut = preprocessing.LabelEncoder()\n",
    "label_color = preprocessing.LabelEncoder()\n",
    "label_clarity = preprocessing.LabelEncoder()\n",
    "\n",
    "#encoding all of categorical columns\n",
    "diamond['cut'] = label_cut.fit_transform(diamond['cut'])\n",
    "diamond['color'] = label_color.fit_transform(diamond['color'])\n",
    "diamond['clarity'] = label_clarity.fit_transform(diamond['clarity'])"
   ]
  },
  {
   "cell_type": "code",
   "execution_count": 91,
   "metadata": {
    "execution": {
     "iopub.execute_input": "2021-08-13T11:34:37.942201Z",
     "iopub.status.busy": "2021-08-13T11:34:37.941621Z",
     "iopub.status.idle": "2021-08-13T11:34:37.968222Z",
     "shell.execute_reply": "2021-08-13T11:34:37.966894Z",
     "shell.execute_reply.started": "2021-08-13T11:34:37.942148Z"
    }
   },
   "outputs": [
    {
     "data": {
      "text/html": [
       "<div>\n",
       "<style scoped>\n",
       "    .dataframe tbody tr th:only-of-type {\n",
       "        vertical-align: middle;\n",
       "    }\n",
       "\n",
       "    .dataframe tbody tr th {\n",
       "        vertical-align: top;\n",
       "    }\n",
       "\n",
       "    .dataframe thead th {\n",
       "        text-align: right;\n",
       "    }\n",
       "</style>\n",
       "<table border=\"1\" class=\"dataframe\">\n",
       "  <thead>\n",
       "    <tr style=\"text-align: right;\">\n",
       "      <th></th>\n",
       "      <th>carat</th>\n",
       "      <th>cut</th>\n",
       "      <th>color</th>\n",
       "      <th>clarity</th>\n",
       "      <th>depth</th>\n",
       "      <th>table</th>\n",
       "      <th>price</th>\n",
       "      <th>x</th>\n",
       "      <th>y</th>\n",
       "      <th>z</th>\n",
       "    </tr>\n",
       "  </thead>\n",
       "  <tbody>\n",
       "    <tr>\n",
       "      <th>0</th>\n",
       "      <td>0.23</td>\n",
       "      <td>2</td>\n",
       "      <td>1</td>\n",
       "      <td>3</td>\n",
       "      <td>61.5</td>\n",
       "      <td>55.0</td>\n",
       "      <td>326</td>\n",
       "      <td>3.95</td>\n",
       "      <td>3.98</td>\n",
       "      <td>2.43</td>\n",
       "    </tr>\n",
       "    <tr>\n",
       "      <th>1</th>\n",
       "      <td>0.21</td>\n",
       "      <td>3</td>\n",
       "      <td>1</td>\n",
       "      <td>2</td>\n",
       "      <td>59.8</td>\n",
       "      <td>61.0</td>\n",
       "      <td>326</td>\n",
       "      <td>3.89</td>\n",
       "      <td>3.84</td>\n",
       "      <td>2.31</td>\n",
       "    </tr>\n",
       "    <tr>\n",
       "      <th>3</th>\n",
       "      <td>0.29</td>\n",
       "      <td>3</td>\n",
       "      <td>5</td>\n",
       "      <td>5</td>\n",
       "      <td>62.4</td>\n",
       "      <td>58.0</td>\n",
       "      <td>334</td>\n",
       "      <td>4.20</td>\n",
       "      <td>4.23</td>\n",
       "      <td>2.63</td>\n",
       "    </tr>\n",
       "    <tr>\n",
       "      <th>4</th>\n",
       "      <td>0.31</td>\n",
       "      <td>1</td>\n",
       "      <td>6</td>\n",
       "      <td>3</td>\n",
       "      <td>63.3</td>\n",
       "      <td>58.0</td>\n",
       "      <td>335</td>\n",
       "      <td>4.34</td>\n",
       "      <td>4.35</td>\n",
       "      <td>2.75</td>\n",
       "    </tr>\n",
       "    <tr>\n",
       "      <th>5</th>\n",
       "      <td>0.24</td>\n",
       "      <td>4</td>\n",
       "      <td>6</td>\n",
       "      <td>7</td>\n",
       "      <td>62.8</td>\n",
       "      <td>57.0</td>\n",
       "      <td>336</td>\n",
       "      <td>3.94</td>\n",
       "      <td>3.96</td>\n",
       "      <td>2.48</td>\n",
       "    </tr>\n",
       "    <tr>\n",
       "      <th>6</th>\n",
       "      <td>0.24</td>\n",
       "      <td>4</td>\n",
       "      <td>5</td>\n",
       "      <td>6</td>\n",
       "      <td>62.3</td>\n",
       "      <td>57.0</td>\n",
       "      <td>336</td>\n",
       "      <td>3.95</td>\n",
       "      <td>3.98</td>\n",
       "      <td>2.47</td>\n",
       "    </tr>\n",
       "    <tr>\n",
       "      <th>7</th>\n",
       "      <td>0.26</td>\n",
       "      <td>4</td>\n",
       "      <td>4</td>\n",
       "      <td>2</td>\n",
       "      <td>61.9</td>\n",
       "      <td>55.0</td>\n",
       "      <td>337</td>\n",
       "      <td>4.07</td>\n",
       "      <td>4.11</td>\n",
       "      <td>2.53</td>\n",
       "    </tr>\n",
       "  </tbody>\n",
       "</table>\n",
       "</div>"
      ],
      "text/plain": [
       "   carat  cut  color  clarity  depth  table  price     x     y     z\n",
       "0   0.23    2      1        3   61.5   55.0    326  3.95  3.98  2.43\n",
       "1   0.21    3      1        2   59.8   61.0    326  3.89  3.84  2.31\n",
       "3   0.29    3      5        5   62.4   58.0    334  4.20  4.23  2.63\n",
       "4   0.31    1      6        3   63.3   58.0    335  4.34  4.35  2.75\n",
       "5   0.24    4      6        7   62.8   57.0    336  3.94  3.96  2.48\n",
       "6   0.24    4      5        6   62.3   57.0    336  3.95  3.98  2.47\n",
       "7   0.26    4      4        2   61.9   55.0    337  4.07  4.11  2.53"
      ]
     },
     "execution_count": 91,
     "metadata": {},
     "output_type": "execute_result"
    }
   ],
   "source": [
    "diamond.head(7) #Let's have a look to the data after encoding."
   ]
  },
  {
   "cell_type": "markdown",
   "metadata": {},
   "source": [
    "# Train - Validation Split"
   ]
  },
  {
   "cell_type": "code",
   "execution_count": 93,
   "metadata": {
    "execution": {
     "iopub.execute_input": "2021-08-13T11:34:37.969752Z",
     "iopub.status.busy": "2021-08-13T11:34:37.969337Z",
     "iopub.status.idle": "2021-08-13T11:34:37.984497Z",
     "shell.execute_reply": "2021-08-13T11:34:37.983101Z",
     "shell.execute_reply.started": "2021-08-13T11:34:37.969674Z"
    }
   },
   "outputs": [],
   "source": [
    "y = diamond['price'] #target variable\n",
    "\n",
    "features = ['carat', 'cut', 'color', 'clarity',\n",
    "            'depth', 'table', 'price'] #predictor variables\n",
    "\n",
    "X = diamond[features]"
   ]
  },
  {
   "cell_type": "code",
   "execution_count": 94,
   "metadata": {
    "execution": {
     "iopub.execute_input": "2021-08-13T11:34:37.986880Z",
     "iopub.status.busy": "2021-08-13T11:34:37.986433Z",
     "iopub.status.idle": "2021-08-13T11:34:38.005679Z",
     "shell.execute_reply": "2021-08-13T11:34:38.004846Z",
     "shell.execute_reply.started": "2021-08-13T11:34:37.986836Z"
    }
   },
   "outputs": [],
   "source": [
    "from sklearn.model_selection import train_test_split \n",
    "train_X, val_X, train_y, val_y = train_test_split(X, y, test_size=0.3, random_state=2021) "
   ]
  },
  {
   "cell_type": "markdown",
   "metadata": {},
   "source": [
    "# Building Models"
   ]
  },
  {
   "cell_type": "code",
   "execution_count": 95,
   "metadata": {
    "execution": {
     "iopub.execute_input": "2021-08-13T11:34:38.008023Z",
     "iopub.status.busy": "2021-08-13T11:34:38.007622Z",
     "iopub.status.idle": "2021-08-13T11:34:38.016157Z",
     "shell.execute_reply": "2021-08-13T11:34:38.015211Z",
     "shell.execute_reply.started": "2021-08-13T11:34:38.007982Z"
    }
   },
   "outputs": [],
   "source": [
    "#importing standartizer and regression models and their error metrics\n",
    "from sklearn.preprocessing import StandardScaler\n",
    "from sklearn import metrics\n",
    "from sklearn.model_selection import cross_val_score\n",
    "from sklearn.metrics import mean_squared_error\n",
    "from sklearn.decomposition import PCA\n",
    "from sklearn.pipeline import Pipeline\n",
    "from sklearn.tree import DecisionTreeRegressor\n",
    "from sklearn.ensemble import RandomForestRegressor\n",
    "from sklearn.linear_model import LinearRegression\n",
    "from xgboost import XGBRegressor"
   ]
  },
  {
   "cell_type": "code",
   "execution_count": 96,
   "metadata": {
    "execution": {
     "iopub.execute_input": "2021-08-13T11:34:38.021131Z",
     "iopub.status.busy": "2021-08-13T11:34:38.020745Z",
     "iopub.status.idle": "2021-08-13T11:34:38.028060Z",
     "shell.execute_reply": "2021-08-13T11:34:38.027137Z",
     "shell.execute_reply.started": "2021-08-13T11:34:38.021101Z"
    }
   },
   "outputs": [],
   "source": [
    "# Building pipelines of different regressors and standartize the training set.\n",
    "\n",
    "pipeLR= Pipeline([(\"std_scalar1\",StandardScaler()),\n",
    "                     (\"lr_regressor\",LinearRegression())])\n",
    "\n",
    "pipeDT= Pipeline([(\"std_scalar2\",StandardScaler()),\n",
    "                     (\"dt_regressor\",DecisionTreeRegressor())])\n",
    "\n",
    "pipeRF= Pipeline([(\"std_scalar3\",StandardScaler()),\n",
    "                     (\"rf_regressor\",RandomForestRegressor())])\n",
    "\n",
    "pipeXGB= Pipeline([(\"std_scalar4\",StandardScaler()),\n",
    "                     (\"XGB_regressorr\",XGBRegressor())])"
   ]
  },
  {
   "cell_type": "code",
   "execution_count": 97,
   "metadata": {
    "execution": {
     "iopub.execute_input": "2021-08-13T11:34:38.030425Z",
     "iopub.status.busy": "2021-08-13T11:34:38.029855Z",
     "iopub.status.idle": "2021-08-13T11:34:49.512494Z",
     "shell.execute_reply": "2021-08-13T11:34:49.511388Z",
     "shell.execute_reply.started": "2021-08-13T11:34:38.030378Z"
    }
   },
   "outputs": [],
   "source": [
    "# List of all the pipelines\n",
    "pipelines = [pipeLR, pipeDT, pipeRF, pipeXGB]\n",
    "\n",
    "# Dictionary of pipelines and model types for ease of reference\n",
    "pipe_dict = {0: \"LinearRegression\", 1: \"DecisionTree\", 2: \"RandomForest\", 3: \"XGBRegressor\"}\n",
    "\n",
    "\n",
    "# Fit the pipelines\n",
    "for pipe in pipelines:\n",
    "    pipe.fit(train_X, train_y)"
   ]
  },
  {
   "cell_type": "code",
   "execution_count": 98,
   "metadata": {
    "execution": {
     "iopub.execute_input": "2021-08-13T11:34:49.514500Z",
     "iopub.status.busy": "2021-08-13T11:34:49.514069Z",
     "iopub.status.idle": "2021-08-13T11:36:33.164610Z",
     "shell.execute_reply": "2021-08-13T11:36:33.163461Z",
     "shell.execute_reply.started": "2021-08-13T11:34:49.514456Z"
    }
   },
   "outputs": [
    {
     "name": "stdout",
     "output_type": "stream",
     "text": [
      "LinearRegression: -0.000000 \n",
      "DecisionTree: -1.247049 \n",
      "RandomForest: -0.425340 \n",
      "XGBRegressor: -36.362155 \n"
     ]
    }
   ],
   "source": [
    "cv_results_NMSE = []\n",
    "for i, model in enumerate(pipelines):\n",
    "    cv_score = cross_val_score(model,train_X, train_y,scoring=\"neg_mean_squared_error\", cv=10)\n",
    "    cv_results_NMSE.append(cv_score)\n",
    "    print(\"%s: %f \" % (pipe_dict[i], cv_score.mean()))\n",
    "    \n",
    "# negative root mean square error of linear regression and decision tree regressors are very low. This points to overfitting. \n",
    "# On the other hand XGB Regressor's error value appears to be optimal. Let's choose XGB regressor for our main model."
   ]
  },
  {
   "cell_type": "markdown",
   "metadata": {},
   "source": [
    "# Model Evaluation"
   ]
  },
  {
   "cell_type": "code",
   "execution_count": 99,
   "metadata": {
    "execution": {
     "iopub.execute_input": "2021-08-13T11:40:59.459079Z",
     "iopub.status.busy": "2021-08-13T11:40:59.458705Z",
     "iopub.status.idle": "2021-08-13T11:40:59.487223Z",
     "shell.execute_reply": "2021-08-13T11:40:59.486378Z",
     "shell.execute_reply.started": "2021-08-13T11:40:59.459048Z"
    }
   },
   "outputs": [],
   "source": [
    "# XGB Model predictions on validation data.\n",
    "pred = pipeXGB.predict(val_X)"
   ]
  },
  {
   "cell_type": "code",
   "execution_count": 100,
   "metadata": {
    "execution": {
     "iopub.execute_input": "2021-08-13T11:41:11.267147Z",
     "iopub.status.busy": "2021-08-13T11:41:11.266782Z",
     "iopub.status.idle": "2021-08-13T11:41:11.278444Z",
     "shell.execute_reply": "2021-08-13T11:41:11.277407Z",
     "shell.execute_reply.started": "2021-08-13T11:41:11.267117Z"
    }
   },
   "outputs": [
    {
     "name": "stdout",
     "output_type": "stream",
     "text": [
      "R^2: 0.9999969081882379\n",
      "Adjusted R^2: 0.9999969067842365\n",
      "MAE: 4.097038733544133\n",
      "MSE: 31.919093950538546\n",
      "RMSE: 5.649698571653053\n"
     ]
    }
   ],
   "source": [
    "# Model Evaluation with different error metrics\n",
    "print(\"R^2:\",metrics.r2_score(val_y, pred))\n",
    "print(\"Adjusted R^2:\",1 - (1-metrics.r2_score(val_y, pred))*(len(val_y)-1)/(len(val_y)-val_X.shape[1]-1))\n",
    "print(\"MAE:\",metrics.mean_absolute_error(val_y, pred))\n",
    "print(\"MSE:\",metrics.mean_squared_error(val_y, pred))\n",
    "print(\"RMSE:\",np.sqrt(metrics.mean_squared_error(val_y, pred)))"
   ]
  },
  {
   "cell_type": "markdown",
   "metadata": {},
   "source": [
    "# Conclusion"
   ]
  },
  {
   "cell_type": "markdown",
   "metadata": {},
   "source": [
    "**In this project, the data is evaluated by means of their features in order to predict the diamond price. Before predicting the price, exploratory data analysis has been made, outliers eleminated, categorical features encoded and numerical features standartized.To predict the price; Linear Regression Model, Decision Tree Regressor, RandomForrest Regressor and XGB Regressor are compared. Amongst them The XGB Regressor has been the most successful one in order to predict diamond price.**"
   ]
  }
 ],
 "metadata": {
  "kernelspec": {
   "display_name": "Python 3",
   "language": "python",
   "name": "python3"
  },
  "language_info": {
   "codemirror_mode": {
    "name": "ipython",
    "version": 3
   },
   "file_extension": ".py",
   "mimetype": "text/x-python",
   "name": "python",
   "nbconvert_exporter": "python",
   "pygments_lexer": "ipython3",
   "version": "3.8.3"
  }
 },
 "nbformat": 4,
 "nbformat_minor": 4
}
