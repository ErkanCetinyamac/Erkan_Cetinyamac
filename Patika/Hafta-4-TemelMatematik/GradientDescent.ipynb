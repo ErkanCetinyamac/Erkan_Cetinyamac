{
 "cells": [
  {
   "cell_type": "markdown",
   "metadata": {},
   "source": [
    "# Gradient Descent’in Sezgisel Olarak Açıklanması"
   ]
  },
  {
   "cell_type": "code",
   "execution_count": 11,
   "metadata": {},
   "outputs": [
    {
     "data": {
      "text/html": [
       "<img src=\"https://miro.medium.com/max/720/1*iDYuAOgV1LIMLweOPFmHCQ.gif\" width=\"400\" height=\"150\"/>"
      ],
      "text/plain": [
       "<IPython.core.display.Image object>"
      ]
     },
     "execution_count": 11,
     "metadata": {},
     "output_type": "execute_result"
    }
   ],
   "source": []
  },
  {
   "cell_type": "markdown",
   "metadata": {},
   "source": [
    "**Günlük yaşamda karşılaştığımız problemlere hep bir optimizasyon işlemi uygulama isteğimiz vardır. Optimizasyon demek, eldeki problem için en uygun çıktıyı elde etmek demektir. Gradient Descent, en popüler ve yaygın olarak kullanılan optimizasyon algoritmalarından biridir. İsterseniz bu algoritmayı sezgisel olarak şöyle açıklayayım;**\n"
   ]
  },
  {
   "cell_type": "markdown",
   "metadata": {},
   "source": [
    "**Gecenin bir vakti, hiç bir ışığın olmadığı engebeli, dağlık bir arazide olduğunuzu hayal edin ve bu arazinin en alçak noktasına en hızlı şekilde inmeye çalıştığınızı düşünün. Bu durumda yaklaşımınız ne olurdu ? En basit olarak çevrenizi adım atmak suretiyle kontrol ederdiniz ve eğimin en yüksek olduğu yöne doğru harekete geçerdiniz. Yuvarlanıp düşmediğinizi farz edip devam ediyoruz :). Bu süreci tekrar tekrar uygulayıp yani çevremizi kontrol edip ve eğimin en yüksek olduğu yöne doğru hareketimizi devam ettirirsek, muhtemelen bir düz vadi veya çukura ulaşmamız beklenir. Engebeli araziyi cost (maliyet) fonksiyonu olarak düşünebiliriz. Cost fonksiyonunu en aza indirmek, daha düşük yükseklik seviyesine ulaşmaya çalışmakla aynı mantıktadır. Her olası parametre kümesi için fonksiyonun değerini görme lüksümüz olmadığı için gecenin bir vakti ve etrafı göremiyorsunuz. Çevrenizdeki arazinin eğimini hissetmek ise eğimi hesaplamaya benzer ve bir adım atmak, parametrelerin bir kez güncellenmesine benzer.**\n",
    "\n",
    "**Erkan Çetinyamaç**"
   ]
  },
  {
   "cell_type": "markdown",
   "metadata": {},
   "source": [
    "**Referanslar**\n",
    "\n",
    "* https://www.knowledgehut.com/blog/data-science/gradient-descent-in-machine-learning\n",
    "* https://www.youtube.com/watch?v=Gbz8RljxIHo\n",
    "* https://www.kdnuggets.com/2018/06/intuitive-introduction-gradient-descent.html"
   ]
  },
  {
   "cell_type": "markdown",
   "metadata": {},
   "source": [
    "Dilerseniz bu yazımı medium üzerindende okuyabilirsiniz. \n",
    "\n",
    "**Link:** https://erkancetinyamac.medium.com/gradient-descentin-sezgisel-olaraka%C3%A7%C4%B1klamas%C4%B1-d946084c55f "
   ]
  }
 ],
 "metadata": {
  "kernelspec": {
   "display_name": "Python 3",
   "language": "python",
   "name": "python3"
  },
  "language_info": {
   "codemirror_mode": {
    "name": "ipython",
    "version": 3
   },
   "file_extension": ".py",
   "mimetype": "text/x-python",
   "name": "python",
   "nbconvert_exporter": "python",
   "pygments_lexer": "ipython3",
   "version": "3.8.3"
  }
 },
 "nbformat": 4,
 "nbformat_minor": 4
}
