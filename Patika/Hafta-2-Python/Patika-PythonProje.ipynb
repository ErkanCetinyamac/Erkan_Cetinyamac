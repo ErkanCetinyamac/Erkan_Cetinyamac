{
 "cells": [
  {
   "cell_type": "markdown",
   "metadata": {},
   "source": [
    "## ERKAN ÇETİNYAMAÇ\n",
    "* **Patika Python Eğitimi - Proje**"
   ]
  },
  {
   "cell_type": "markdown",
   "metadata": {},
   "source": [
    "**1 - Bir listeyi düzleştiren (flatten) fonksiyon yazın. Elemanları birden çok katmanlı listtlerden ([[3],2] gibi)\n",
    "oluşabileceği gibi, non-scalar verilerden de oluşabilir.\n",
    "Örnek olarak:**\n",
    "    \n",
    "**input: [[1,'a',['cat'],2],[[[3]],'dog'],4,5]**\n",
    "\n",
    "**output: [1,'a','cat',2,3,'dog',4,5]**"
   ]
  },
  {
   "cell_type": "code",
   "execution_count": 34,
   "metadata": {},
   "outputs": [
    {
     "data": {
      "text/plain": [
       "[1, 'a', 'cat', 2, 3, 'dog', 4, 5]"
      ]
     },
     "execution_count": 34,
     "metadata": {},
     "output_type": "execute_result"
    }
   ],
   "source": [
    "def flatten(l,a=list()):\n",
    "    for i in l:\n",
    "        if isinstance(i, list): # checks if the index is a sublist.\n",
    "            flatten(i, a) # recursion.\n",
    "        else:\n",
    "            a.append(i) # if the there is no sublist it just adds the index.\n",
    "    return a\n",
    "\n",
    "flatten([[1,'a',['cat'],2],[[[3]],'dog'],4,5])"
   ]
  },
  {
   "cell_type": "markdown",
   "metadata": {},
   "source": [
    "**2 - Verilen listenin içindeki elemanları tersine döndüren bir fonksiyon yazın. Eğer listenin içindeki elemanlar da liste içeriyorsa onların elemanlarını da tersine döndürün. Örnek olarak:**\n",
    "\n",
    "**input: [[1, 2], [3, 4], [5, 6, 7]]**\n",
    "\n",
    "**output: [[[7, 6, 5], [4, 3], [2, 1]]**"
   ]
  },
  {
   "cell_type": "code",
   "execution_count": 35,
   "metadata": {},
   "outputs": [
    {
     "data": {
      "text/plain": [
       "[[7, 6, 5], [4, 3], [2, 1]]"
      ]
     },
     "execution_count": 35,
     "metadata": {},
     "output_type": "execute_result"
    }
   ],
   "source": [
    "def ReverseTurned(l):\n",
    "    l.reverse() # reverses input.\n",
    "    for i in l:\n",
    "        if isinstance(i,list): # checks if the index is a sublist.\n",
    "            ReverseTurned(i)   # recursion.\n",
    "    return l\n",
    "\n",
    "\n",
    "ReverseTurned([[1, 2], [3, 4], [5, 6, 7]])"
   ]
  },
  {
   "cell_type": "code",
   "execution_count": null,
   "metadata": {},
   "outputs": [],
   "source": []
  }
 ],
 "metadata": {
  "kernelspec": {
   "display_name": "Python 3",
   "language": "python",
   "name": "python3"
  },
  "language_info": {
   "codemirror_mode": {
    "name": "ipython",
    "version": 3
   },
   "file_extension": ".py",
   "mimetype": "text/x-python",
   "name": "python",
   "nbconvert_exporter": "python",
   "pygments_lexer": "ipython3",
   "version": "3.8.3"
  }
 },
 "nbformat": 4,
 "nbformat_minor": 4
}
