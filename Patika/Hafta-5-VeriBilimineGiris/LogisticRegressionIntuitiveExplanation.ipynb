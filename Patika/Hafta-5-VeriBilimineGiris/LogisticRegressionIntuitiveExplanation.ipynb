{
 "cells": [
  {
   "cell_type": "markdown",
   "metadata": {},
   "source": [
    "# Lojistik Regresyonun Sezgisel Olarak Açıklanması"
   ]
  },
  {
   "cell_type": "markdown",
   "metadata": {},
   "source": [
    "**Öncelikle bir tanım yapmak gerekirse, Lojistik Regresyon, sınıflandırma problemlerini çözmek için kullanılan makine öğrenmesi algoritmalarından biridir. Lojistik regresyon, bağımlı değişken ikili (binary) olduğunda yapılacak uygun regresyon analizidir.**"
   ]
  },
  {
   "cell_type": "code",
   "execution_count": 7,
   "metadata": {},
   "outputs": [
    {
     "data": {
      "text/html": [
       "<img src=\"https://miro.medium.com/max/1050/1*XgAlWcV-GwhipVkDwATUoA.jpeg\" width=\"600\" height=\"500\"/>"
      ],
      "text/plain": [
       "<IPython.core.display.Image object>"
      ]
     },
     "execution_count": 7,
     "metadata": {},
     "output_type": "execute_result"
    }
   ],
   "source": [
    "Image(url= \"https://miro.medium.com/max/1050/1*XgAlWcV-GwhipVkDwATUoA.jpeg\", width=600, height=500)"
   ]
  },
  {
   "cell_type": "markdown",
   "metadata": {},
   "source": [
    "**Lojistik regresyon, doğrusal regresyon ile benzerlikler taşır fakat ayrıldıkları noktayı size örneklerle açıklamak isterim. Lojistik regresyon tahmin yaparken bize boy veya kilo gibi sürekli değişkenlere dair problemlerde değil de, bağımlı değişkenimizin kategorik olduğu durumlarda kullanılır. Örneğin, bir kişinin kredi başvurusu onaylanıp onaylanmayacağına dair tahmin senaryosunda “Onay’’ veya ‘’Red’’ olarak bir geri dönüş sağlar. Bunun gibi sınıflandırma problemlerinde lojistik regresyon tercih edilir. Modelimizin isminde regresyon geçmesine karşın bir sınıflandırma söz konusudur.**"
   ]
  },
  {
   "cell_type": "code",
   "execution_count": 8,
   "metadata": {},
   "outputs": [
    {
     "data": {
      "text/html": [
       "<img src=\"https://miro.medium.com/max/1050/1*iiVVk67hXAk3e1ZDY9U89g.png\" width=\"600\" height=\"500\"/>"
      ],
      "text/plain": [
       "<IPython.core.display.Image object>"
      ]
     },
     "execution_count": 8,
     "metadata": {},
     "output_type": "execute_result"
    }
   ],
   "source": [
    "Image(url= \"https://miro.medium.com/max/1050/1*iiVVk67hXAk3e1ZDY9U89g.png\", width=600, height=500)"
   ]
  },
  {
   "cell_type": "markdown",
   "metadata": {},
   "source": [
    "**Lojistik regresyon tahmin üretmek için bir doğru fit etmek yerine bir ‘S’ şeklinde lojistik fonksiyon fit eder. Bu ‘S’ fonksiyonundaki eğri ‘0’ dan ‘1’ e gider. Bu eğriyi bir önceki örneğimizden de yola çıkarak açıklayacak olursak, bu ‘S’ eğrisi, X eksenindeki bağımsız değişken değerlerini kullanarak, kişinin kredi başvurusu onaylanıp onaylanmayacağının olasılığını verir. X ekseninde tahminde bulunacağımız gözlemin gelir bağımsız değişkeni (feature) olduğunu düşünelim ve gelir miktarı yüksek bir gözlemi ele alalım. Bu gözlem X ekseninde oldukça sağ tarafta kalır. Bu nedenle de yüksek bir olasılıkla bu gözlemin kredisi onaylanacağı sonucuna varılır. Eğer gelir değişkeni tam X eksenin ortasında olan bir gözlemi ele alırsak, bu durumda da kişinin kredi başvurusunun onaylanma olasılığı 50% olur. Eğer gelir değişkeni, X ekseninin oldukça sol tarafında olan bir gözlemi ele alırsak bu durumda da kişinin kredi başvurusunun onaylanma olasılığı çok düşük çıkacaktır.**"
   ]
  },
  {
   "cell_type": "markdown",
   "metadata": {},
   "source": [
    "**Lojistik regresyonun söylediği bu olasılıklar tam bu noktada sınıflandırma yapmak için kullanılır. X eksenindeki gelir düzeyi bağımsız değişkenini tam ortalama değerinden iki eşit parçaya bölecek olursak, lojistik regresyon ortalamadan büyük olan yani ortalama değerin sağındaki gözlemlere kredi başvuru sonucunu olumlu olarak sınıflandıracak ve bu ortalama değerin solunda kalan gözlemlerin ise sonucunu olumsuz olarak sınıflandıracaktır.**\n",
    "\n",
    "**Erkan Çetinyamaç**"
   ]
  },
  {
   "cell_type": "markdown",
   "metadata": {},
   "source": [
    "**Referanslar:**\n",
    "\n",
    "* https://www.kdnuggets.com/2020/03/linear-logistic-regression-explained.html\n",
    "* https://www.analyticsvidhya.com/blog/2021/07/perform-logistic-regression-with-pytorch-seamlessly/\n",
    "* https://www.youtube.com/watch?v=yIYKR4sgzI8\n",
    "\n",
    "\n",
    "Dilerseniz bu yazımı medium üzerinden de okuyabilirsiniz.\n",
    "\n",
    "**Link:** https://erkancetinyamac.medium.com/gradient-descentin-sezgisel-olaraka%C3%A7%C4%B1klamas%C4%B1-d946084c55f"
   ]
  }
 ],
 "metadata": {
  "kernelspec": {
   "display_name": "Python 3",
   "language": "python",
   "name": "python3"
  },
  "language_info": {
   "codemirror_mode": {
    "name": "ipython",
    "version": 3
   },
   "file_extension": ".py",
   "mimetype": "text/x-python",
   "name": "python",
   "nbconvert_exporter": "python",
   "pygments_lexer": "ipython3",
   "version": "3.8.3"
  }
 },
 "nbformat": 4,
 "nbformat_minor": 4
}
