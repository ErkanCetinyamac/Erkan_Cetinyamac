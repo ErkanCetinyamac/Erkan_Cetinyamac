{
 "cells": [
  {
   "cell_type": "markdown",
   "metadata": {},
   "source": [
    "# Merkezi Limit Teoremi (Central Limit Theorem)"
   ]
  },
  {
   "cell_type": "markdown",
   "metadata": {},
   "source": [
    "**Öncelikle belirtmek gerekirse; merkezi limit teoremi, istatistik bilimi için en önemli konseptlerden biridir. Elinizde istatistiki dağılımı normal, uniform, binomial veya tamamen rassal dağılıma sahip bir veri seti olduğunu düşünün. Bu veri setini kullanarak çıkarımlarda bulunmak için yapacağınız ilk şey veri setinden örneklem çekmek olacaktır (sampling).  Bu sayede veriyi daha iyi tanımak adına, hangi özniteliklere sahip olduğu gibi konular üzerine çıkarım yapabiliriz. Elimizde nicelik bakımından yeterli düzeyde örneklem olduğu zaman, veri setinin istatistiki dağılımı fark etmeksizin merkezi limit teoremini uygulama şansımız olacaktır. Merkezi limit teoreminin bize söylediği büyülü şey, aldığımız örneklemlerin ortalama değerlerinin bir normal dağılım paternine yakınsayacak olduğudur. Daha fazla sayıda ve miktarda örneklem çekmeye devam edersek bu örneklemlerin ortalamaları normal dağılım paternine daha da yaklaşacaktır.**"
   ]
  },
  {
   "cell_type": "markdown",
   "metadata": {},
   "source": [
    "**İsterseniz yukarıda anlattıklarımın bir uygulamasını yapalım. 50 kere zar attığımız bir deney düşünün ve bu 50 zarın ortalamasını alalım. Bu işlemi 1000 defa tekrarlayarak her bir iterasyondaki ortalamaları kaydedelim ve en sonunda elimizdeki ortalamaların nasıl dağıldığını inceleyelim.**"
   ]
  },
  {
   "cell_type": "code",
   "execution_count": 2,
   "metadata": {},
   "outputs": [
    {
     "data": {
      "image/png": "[encoded data removed]",
      "text/plain": [
       "<Figure size 432x288 with 1 Axes>"
      ]
     },
     "metadata": {
      "needs_background": "light"
     },
     "output_type": "display_data"
    }
   ],
   "source": [
    "from numpy.random import seed\n",
    "from numpy.random import randint\n",
    "from numpy import mean\n",
    "from matplotlib import pyplot\n",
    "seed(1994)\n",
    "# 1000 defa, 50 zar atalım ve ortalamaları saklayalım ve dağılımlarını histogram plot ettirerek gözlemleyelim.\n",
    "means = [mean(randint(1, 7, 50)) for _ in range(1000)]\n",
    "pyplot.hist(means)\n",
    "pyplot.show()"
   ]
  },
  {
   "cell_type": "markdown",
   "metadata": {},
   "source": [
    "**Merkezi limit teoreminin belirttiği üzere aldığımız ortalamaların normal dağılama uyduğunu görüyoruz.**"
   ]
  }
 ],
 "metadata": {
  "kernelspec": {
   "display_name": "Python 3",
   "language": "python",
   "name": "python3"
  },
  "language_info": {
   "codemirror_mode": {
    "name": "ipython",
    "version": 3
   },
   "file_extension": ".py",
   "mimetype": "text/x-python",
   "name": "python",
   "nbconvert_exporter": "python",
   "pygments_lexer": "ipython3",
   "version": "3.8.3"
  }
 },
 "nbformat": 4,
 "nbformat_minor": 4
}
